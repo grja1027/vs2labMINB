{
 "cells": [
  {
   "cell_type": "markdown",
   "metadata": {},
   "source": [
    "# Telefon Server"
   ]
  },
  {
   "cell_type": "markdown",
   "metadata": {},
   "source": [
    "Der Server verarbeitet Abfragen vom Client und gibt entsprechende Antworten bezüglich der Telefon Datenbank.\n",
    "Die Telefondatenbank wird als Dictionary im Serverteil gespeichert.\n",
    "\n",
    "```python \n",
    "\n",
    "_phonebook = dict([('sape', 4139), ('guido', 4127), ('jack', 4098)])\n",
    "\n",
    "```\n",
    "\n",
    "Wie in der Vorlage wird das Serververhalten durch die Methode ```serve()``` bereitgestellt. Der Kontrast zur Vorlage ist hier, dass der Server bei Requests unterscheidungen zu den geschickten Daten macht, um dementsprechend richtige Antworten zu liefern.\n",
    "\n",
    "```python\n",
    "\n",
    "data = connection.recv(1024)  # receive data from client\n",
    "if not data:\n",
    "    break  # stop if client stopped\n",
    "temp = data.decode('ascii').strip().split() \n",
    "command = temp[0]\n",
    "if len(temp) == 2:\n",
    "    params = temp[1]\n",
    "\n",
    "```\n",
    "\n",
    "* Der Server erhält Daten vom Client und speichert diese in der ```data``` Variable\n",
    "* Diese werden dekodiert und die einzelnen Wörter der String werden in eine Liste gesplittet durch ```split()```\n",
    "* Das erste Element der Liste ist immer der Command vom Client: Entweder \"GET\", \"GETALL\" oder der Input durch ```call()``` (nicht relevant für diese Anwendung). Diese wird in die ```command``` Variable gespeichert\n",
    "    * Falls der Input \"GET\" ist, erwartet der Server auch einen Parameter (ein Key um das Dictionary zu durchsuchen). Der Parameter ist in diesem Fall das zweite Listenelement und wird in die ```params``` Variable gespeichert\n",
    "\n",
    "```python \n",
    "\n",
    "if command == \"GET\":\n",
    "    result = self.get(params)\n",
    "    connection.send(result.encode('ascii'))\n",
    "elif command == \"GETALL\":\n",
    "    result = self.get_all()\n",
    "    connection.send(result.encode('ascii'))\n",
    "\n",
    "```\n",
    "\n",
    "* Der Server gibt eine andere Antwort basierend auf den Command\n",
    "    * Bei \"GET\" wird die ```get()``` Servermethode aufgerufen\n",
    "    * Bei \"GETALL\" wird die ```get_all()``` Servermethode aufgerufen\n",
    "\n",
    "Diese sind wie folgt definiert:\n",
    "\n",
    "Funktionsdefinition von ```get()```:\n",
    "\n",
    "```python \n",
    "\n",
    "def get(self, name):\n",
    "        number = self._phonebook.get(name)\n",
    "        if number is not None:\n",
    "            return str(number)\n",
    "        else:\n",
    "            return \"Entry not found\"\n",
    "\n",
    "```\n",
    "\n",
    "* Die Nummer wird aus dem Dictionary basierend auf den eingegebenen Namen gespeichert\n",
    "* Falls kein Eintrag existiert, wird \"Entry not found\" returned. Ansonsten wird die Nummer returned.\n",
    "\n",
    "\n",
    "Funktionsdefinition von ```get_all()```; \n",
    "\n",
    "```python\n",
    "\n",
    " def get_all(self):\n",
    "        return ', '.join([f\"{name}: {number}\" for name, number in self._phonebook.items()])\n",
    "\n",
    "```\n",
    "\n",
    "* Alle Einträge werden returned, getrennt mit einem Komma und einem Leerzeichen"
   ]
  },
  {
   "cell_type": "code",
   "execution_count": 1,
   "metadata": {},
   "outputs": [
    {
     "name": "stderr",
     "output_type": "stream",
     "text": [
      "2024-04-18 10:20:21,555 - vs2lab.lab1.clientserver.Server - INFO - Server bound to socket <socket.socket fd=77, family=2, type=1, proto=0, laddr=('127.0.0.1', 50007)>\n"
     ]
    }
   ],
   "source": [
    "import clientserver # import from our script\n",
    "\n",
    "server = clientserver.Server() # Create a server instance\n",
    "\n",
    "server.serve() # start server routine in the forked process"
   ]
  }
 ],
 "metadata": {
  "kernelspec": {
   "display_name": "Python 3",
   "language": "python",
   "name": "python3"
  },
  "language_info": {
   "codemirror_mode": {
    "name": "ipython",
    "version": 3
   },
   "file_extension": ".py",
   "mimetype": "text/x-python",
   "name": "python",
   "nbconvert_exporter": "python",
   "pygments_lexer": "ipython3",
   "version": "3.11.4"
  }
 },
 "nbformat": 4,
 "nbformat_minor": 2
}

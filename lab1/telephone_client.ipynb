{
 "cells": [
  {
   "cell_type": "markdown",
   "metadata": {},
   "source": [
    "# Telefon Client"
   ]
  },
  {
   "cell_type": "markdown",
   "metadata": {},
   "source": [
    "Der Telefon Client dient zur Abfrage des Telefon-Datenbank, die im Serveranteil gespeichert wird.\n",
    "\n",
    "Zwei Methoden sind zur Abfrage verfügbar: \n",
    "\n",
    "* ```get_all()``` : Gibt alle Einträge der Telefon-Datenbank mit dem Name und der zugehörigen Telefonnummer aus.\n",
    "* ```get(name)``` : Gibt zu dem eingegebenen Namen die zugehörige Telefonnummer aus\n",
    "\n",
    "Funktionsdefinition von ```get(name)```:\n",
    "\n",
    "```python\n",
    "\n",
    "def get(self, name):\n",
    "\n",
    "        \"\"\" Get entry from server \"\"\"\n",
    "        command = \"GET \" + name \n",
    "        self.sock.send(command.encode('ascii'))  # send command to server\n",
    "        data = self.sock.recv(1024)  # receive the response\n",
    "        self.sock.close()  # close the connection\n",
    "        self.logger.info(\"Client down.\")\n",
    "        return data.decode('ascii')  # return the result \n",
    "\n",
    "``` \n",
    "* Ein Command wird als String gespeichert mit \"GET\" + dem eingegebenen Parameter\n",
    "* Dieser Command wird an den Server geschickt, der diesen dann bearbeitet. Diese Bearbeitung ist in Detail im Server Notebook erklärt\n",
    "* Nachdem der Server die Nachricht verarbeitet, schickt er eine Antwort zurück an client, der diese in eine neue Variable ```data``` speichert\n",
    "* Diese Variable wird dekodiert um die richtige Ausgabe als String zu bekommen\n",
    "\n",
    "\n",
    "Funktionsdefinition von ```get_all()```:\n",
    "\n",
    "```python \n",
    "\n",
    " def get_all(self):\n",
    "        \"\"\" Get all entries from server \"\"\"\n",
    "        command = \"GETALL\"\n",
    "        self.sock.send(command.encode('ascii'))  # send command to server\n",
    "        data = self.sock.recv(1024)  # receive the response\n",
    "        self.sock.close()  # close the connection\n",
    "        self.logger.info(\"Client down.\")\n",
    "        return data.decode('ascii')  # return the result\n",
    "\n",
    "```\n",
    "* Ähnlich zu ```get()``` schickt ```get_all()``` einen Command zum Server. Dieses Mal werden aber keine Parameter mitgeschickt, da diese nicht nötig sind, und es wird nur der command \"GETALL\" verschickt\n",
    "* Der Server verarbeitet wieder den Command und schickt die entsprechende Antwort zurück\n",
    "* Diese wird wieder in einer ```data``` Variable gespeichert und schließlich dekodiert und zurückgegeben"
   ]
  },
  {
   "cell_type": "code",
   "execution_count": 6,
   "metadata": {},
   "outputs": [
    {
     "name": "stderr",
     "output_type": "stream",
     "text": [
      "2024-04-18 10:21:11,450 - vs2lab.a1_layers.clientserver.Client - INFO - Client connected to socket <socket.socket fd=77, family=2, type=1, proto=0, laddr=('127.0.0.1', 33320), raddr=('127.0.0.1', 50007)>\n",
      "2024-04-18 10:21:11,452 - vs2lab.a1_layers.clientserver.Client - INFO - Client down.\n"
     ]
    },
    {
     "data": {
      "text/plain": [
       "'Entry not found'"
      ]
     },
     "execution_count": 6,
     "metadata": {},
     "output_type": "execute_result"
    }
   ],
   "source": [
    "import clientserver # import from our script\n",
    "\n",
    "client = clientserver.Client() # Create a client instance\n",
    "\n",
    "client.get(\"\") # start the call and print echo"
   ]
  }
 ],
 "metadata": {
  "kernelspec": {
   "display_name": "Python 3",
   "language": "python",
   "name": "python3"
  },
  "language_info": {
   "codemirror_mode": {
    "name": "ipython",
    "version": 3
   },
   "file_extension": ".py",
   "mimetype": "text/x-python",
   "name": "python",
   "nbconvert_exporter": "python",
   "pygments_lexer": "ipython3",
   "version": "3.11.4"
  }
 },
 "nbformat": 4,
 "nbformat_minor": 2
}
